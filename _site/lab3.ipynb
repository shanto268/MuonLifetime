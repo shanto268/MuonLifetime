{
 "cells": [
  {
   "cell_type": "markdown",
   "id": "protective-coupon",
   "metadata": {
    "cell_style": "center"
   },
   "source": [
    "# Muon Lifetime Determination Project Log Book\n",
    "\n",
    "**Sadman Ahmed Shanto**\n",
    "\n",
    "---\n",
    "\n",
    "---\n",
    "## Table of Contents:\n",
    "* Background and Theory\n",
    "* Experiments\n",
    "* Project Questions\n",
    "* Conclusion & Summary\n",
    "---\n",
    "\n",
    "# Background and Theory:\n",
    "\n"
   ]
  },
  {
   "cell_type": "markdown",
   "id": "subjective-mouth",
   "metadata": {},
   "source": [
    "## Methodology:\n",
    "\n",
    "\n",
    "In this lab, we make use of Helmholtz coils and a rotating copper disc with necessary equipment (power supply, ammeter, voltmeter, etc) to conduct experiments to systematically investigate the various relationships between rotation frequency $\\omega$, magnetic field $B$, field radius $r$, and voltage supply $\\mathcal{E}$ using the following apparatus:\n",
    "\n",
    "<center>\n",
    "<img src=\"app.png\" class=\"bg-primary mb-1\" width=\"800px\">\n",
    "    <figcaption><b>Fig. 2:</b> Schematic of the REMF Apparatus (credit: Lab Manual)</figcaption>\n",
    "</center>\n",
    "\n",
    "---"
   ]
  },
  {
   "cell_type": "markdown",
   "id": "secondary-backup",
   "metadata": {},
   "source": [
    "# Experiments\n",
    "\n",
    "## Day 1 (03/08/21):\n",
    "\n",
    "\n",
    "\n",
    "<center>\n",
    "<table><tr>\n",
    "<td> <img src=\"old1.jpeg\" alt=\"Drawing\" style=\"width: 250px;\"/> </td>\n",
    "<td> <img src=\"new1.jpeg\" alt=\"Drawing\" style=\"width: 250px;\"/> </td>\n",
    "</tr></table>\n",
    "<figcaption><b>Fig. 3:</b> a) Old measurement scale b) New measurement scale</figcaption>\n",
    "\n",
    "</center>\n"
   ]
  },
  {
   "cell_type": "code",
   "execution_count": 1,
   "id": "framed-istanbul",
   "metadata": {},
   "outputs": [],
   "source": [
    "from scipy.optimize import curve_fit\n",
    "\n",
    "\n",
    "def getB(I,r): #mT\n",
    "    r = r*0.01\n",
    "    u0 = 1.25663706*(10**-6)\n",
    "    N = 294\n",
    "    B = (8/(5*np.sqrt(5)))*((u0*I*N)/r)\n",
    "    return B*1000 \n",
    "\n",
    "def straight(x, a, b):\n",
    "    x = np.array(x)\n",
    "    return a*x + b\n",
    "\n",
    "def quad(x, a, b, c):\n",
    "    x = np.array(x)\n",
    "    return a*x**2 + b*x + c\n",
    "\n",
    "def uplot(xv,yv,xerr,yerr,figNo,xlab=\"\",ylab=\"\",title=\"\",caption=\"\"):\n",
    "    pars, cov = curve_fit(f=straight, xdata=xv, ydata=yv, p0=[0, 0], bounds=(-np.inf, np.inf))\n",
    "    plt.title(title)\n",
    "    plt.plot(xv, straight(xv, *pars), linestyle='--', label=\"linear fit\")\n",
    "    plt.errorbar(xv, yv, xerr=xerr, yerr=yerr, fmt=\"none\",label=\"data\")\n",
    "    plt.xlabel(xlab)\n",
    "    plt.ylabel(ylab)\n",
    "    plt.grid()\n",
    "    plt.legend()\n",
    "    getCaption(figNo, caption)\n",
    "    plt.show()"
   ]
  },
  {
   "cell_type": "markdown",
   "id": "fifteen-cologne",
   "metadata": {},
   "source": [
    "The uncertainty in  $\\mathcal{E}$ was $\\pm 0.1 mV$, $r$ was $\\pm 0.1 cm$ and that in the $r^2$ term is calculated using error propagation."
   ]
  },
  {
   "cell_type": "markdown",
   "id": "steady-subscription",
   "metadata": {},
   "source": [
    "# Conclusion & Summary\n"
   ]
  },
  {
   "cell_type": "markdown",
   "id": "skilled-personality",
   "metadata": {},
   "source": [
    "# Project Questions:\n",
    "\n",
    "**1. Discuss your setup. Write down exactly how you elect to set thresholds and the electronic logic for event selection.**\n",
    "\n",
    "\n",
    "**2. Plot the time distribution and calculate the muon life-time by making a fit. How good is the fit? What are the errors on your fit parameters? Statistical and systematic? Identify each source of error.**\n",
    "\n",
    "\n",
    "**3. Assuming muons are created 30 km above sea-level and travel at the speed of light, what is the minimum time they must survive to be seen in your experiment?**\n",
    "\n",
    "\n",
    "**4.What is the maximum energy the decay electron can have? What distance such an electron travel in the scintillator? How many photons does it generate? Can we measure (or estimate) their energies with our setup? How about the neutrinos? How many photons do they generate?**\n",
    "\n",
    "\n",
    "**5. What are the possible sources of backgrounds?**\n",
    "\n",
    "\n",
    "**6. Compare your result with the accepted value (check http://pdg.lbl.gov). Explain the differences, if any**\n",
    "\n",
    "\n",
    "**7. Muons come in two different charge states, positive and negative. The negative muon decays $\\mu^- \\rightarrow + v_{\\mu} + \\bar{v}_{e} + e^-$ and the positive one as $\\mu^+ \\rightarrow + v_{e} + \\bar{v}_{\\mu} + e^+$ . Can you tell which type of muons you detected?**\n",
    "\n",
    "\n",
    "**8. What is lepton number conservation?**\n",
    "\n",
    "\n",
    "**9. How do we know there are two neutrinos in muon decay? Why not just one or none? How can we experimentally answer this?**\n",
    "\n",
    "\n",
    "**10. Are there other muon decay modes? If so, what are they? Can we detect/identify them?**\n",
    "\n"
   ]
  },
  {
   "cell_type": "code",
   "execution_count": null,
   "id": "private-fluid",
   "metadata": {},
   "outputs": [],
   "source": []
  }
 ],
 "metadata": {
  "hide_input": false,
  "kernelspec": {
   "display_name": "Python 3",
   "language": "python",
   "name": "python3"
  },
  "language_info": {
   "codemirror_mode": {
    "name": "ipython",
    "version": 3
   },
   "file_extension": ".py",
   "mimetype": "text/x-python",
   "name": "python",
   "nbconvert_exporter": "python",
   "pygments_lexer": "ipython3",
   "version": "3.8.3"
  },
  "toc": {
   "base_numbering": 1,
   "nav_menu": {},
   "number_sections": true,
   "sideBar": true,
   "skip_h1_title": false,
   "title_cell": "Table of Contents",
   "title_sidebar": "Contents",
   "toc_cell": false,
   "toc_position": {},
   "toc_section_display": true,
   "toc_window_display": false
  },
  "varInspector": {
   "cols": {
    "lenName": 16,
    "lenType": 16,
    "lenVar": 40
   },
   "kernels_config": {
    "python": {
     "delete_cmd_postfix": "",
     "delete_cmd_prefix": "del ",
     "library": "var_list.py",
     "varRefreshCmd": "print(var_dic_list())"
    },
    "r": {
     "delete_cmd_postfix": ") ",
     "delete_cmd_prefix": "rm(",
     "library": "var_list.r",
     "varRefreshCmd": "cat(var_dic_list()) "
    }
   },
   "types_to_exclude": [
    "module",
    "function",
    "builtin_function_or_method",
    "instance",
    "_Feature"
   ],
   "window_display": false
  }
 },
 "nbformat": 4,
 "nbformat_minor": 5
}
