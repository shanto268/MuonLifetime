{
 "cells": [
  {
   "cell_type": "markdown",
   "id": "sudden-farmer",
   "metadata": {
    "cell_style": "center"
   },
   "source": [
    "# Muon Lifetime Determination Project Log Book\n",
    "\n",
    "**Sadman Ahmed Shanto**\n",
    "\n",
    "---\n",
    "\n",
    "---\n",
    "## Table of Contents:\n",
    "* Background and Theory\n",
    "* Experimental Progress Report\n",
    "* Project Questions\n",
    "* Conclusion & Summary\n",
    "---\n",
    "\n",
    "# Background and Theory:\n",
    "\n"
   ]
  },
  {
   "cell_type": "markdown",
   "id": "sapphire-neighborhood",
   "metadata": {},
   "source": [
    "## Origin of the Muon:\n",
    "\n",
    "In this experiment, we observe cosmic\n",
    "muons. Cosmic rays are high energy particles produced in the sun and in supernovae\n",
    "and neutron stars of our galaxy. About\n",
    "$85\\%$ of the cosmic rays are protons and\n",
    "$12\\%$ are alpha particles (helium nuclei).\n",
    "The remainder are electrons and nuclei of\n",
    "heavier atoms. The cosmic rays travel in\n",
    "the space between the stars. In their path\n",
    "they interact with atomic nuclei and they\n",
    "produce new cosmic rays, like antiprotons,\n",
    "positrons, photons and neutrinos. The\n",
    "cosmic rays that reach our atmosphere are\n",
    "called primary cosmic rays. The energy\n",
    "spectrum of primary cosmic rays, i.e. the\n",
    "number of particles as a function of energy, has been measured over an enormous\n",
    "range. For the nuclear component, it is\n",
    "shown in Figure 1. A good fit to the data,\n",
    "except at the lowest energies, is the following:\n",
    "\n",
    "\n",
    "\n",
    "<center>\n",
    "<img src=\"app.png\" class=\"bg-primary mb-1\" width=\"800px\">\n",
    "    <figcaption><b>Fig. 2:</b> Schematic of the REMF Apparatus (credit: Lab Manual)</figcaption>\n",
    "</center>\n",
    "\n",
    "---"
   ]
  },
  {
   "cell_type": "markdown",
   "id": "soviet-woman",
   "metadata": {},
   "source": [
    "# Experimental Progress Report\n",
    "\n",
    "## Day 1:\n",
    "\n",
    "\n"
   ]
  },
  {
   "cell_type": "code",
   "execution_count": 1,
   "id": "independent-border",
   "metadata": {},
   "outputs": [],
   "source": [
    "from scipy.optimize import curve_fit\n",
    "\n",
    "\n",
    "def getB(I,r): #mT\n",
    "    r = r*0.01\n",
    "    u0 = 1.25663706*(10**-6)\n",
    "    N = 294\n",
    "    B = (8/(5*np.sqrt(5)))*((u0*I*N)/r)\n",
    "    return B*1000 \n",
    "\n",
    "def straight(x, a, b):\n",
    "    x = np.array(x)\n",
    "    return a*x + b\n",
    "\n",
    "def quad(x, a, b, c):\n",
    "    x = np.array(x)\n",
    "    return a*x**2 + b*x + c\n",
    "\n",
    "def uplot(xv,yv,xerr,yerr,figNo,xlab=\"\",ylab=\"\",title=\"\",caption=\"\"):\n",
    "    pars, cov = curve_fit(f=straight, xdata=xv, ydata=yv, p0=[0, 0], bounds=(-np.inf, np.inf))\n",
    "    plt.title(title)\n",
    "    plt.plot(xv, straight(xv, *pars), linestyle='--', label=\"linear fit\")\n",
    "    plt.errorbar(xv, yv, xerr=xerr, yerr=yerr, fmt=\"none\",label=\"data\")\n",
    "    plt.xlabel(xlab)\n",
    "    plt.ylabel(ylab)\n",
    "    plt.grid()\n",
    "    plt.legend()\n",
    "    getCaption(figNo, caption)\n",
    "    plt.show()"
   ]
  },
  {
   "cell_type": "markdown",
   "id": "angry-general",
   "metadata": {},
   "source": [
    "The uncertainty in  $\\mathcal{E}$ was $\\pm 0.1 mV$, $r$ was $\\pm 0.1 cm$ and that in the $r^2$ term is calculated using error propagation."
   ]
  },
  {
   "cell_type": "markdown",
   "id": "downtown-silly",
   "metadata": {},
   "source": [
    "## Data Analysis"
   ]
  },
  {
   "cell_type": "code",
   "execution_count": 1,
   "id": "going-animation",
   "metadata": {},
   "outputs": [
    {
     "data": {
      "text/html": [
       "<div>\n",
       "<style scoped>\n",
       "    .dataframe tbody tr th:only-of-type {\n",
       "        vertical-align: middle;\n",
       "    }\n",
       "\n",
       "    .dataframe tbody tr th {\n",
       "        vertical-align: top;\n",
       "    }\n",
       "\n",
       "    .dataframe thead th {\n",
       "        text-align: right;\n",
       "    }\n",
       "</style>\n",
       "<table border=\"1\" class=\"dataframe\">\n",
       "  <thead>\n",
       "    <tr style=\"text-align: right;\">\n",
       "      <th></th>\n",
       "      <th>TIME</th>\n",
       "      <th>Stop</th>\n",
       "      <th>Start</th>\n",
       "      <th>Unnamed: 3</th>\n",
       "      <th>Unnamed: 4</th>\n",
       "    </tr>\n",
       "  </thead>\n",
       "  <tbody>\n",
       "    <tr>\n",
       "      <th>0</th>\n",
       "      <td>-0.000004</td>\n",
       "      <td>-0.381719</td>\n",
       "      <td>-0.009062</td>\n",
       "      <td>NaN</td>\n",
       "      <td>NaN</td>\n",
       "    </tr>\n",
       "    <tr>\n",
       "      <th>1</th>\n",
       "      <td>-0.000004</td>\n",
       "      <td>-0.382578</td>\n",
       "      <td>-0.009141</td>\n",
       "      <td>NaN</td>\n",
       "      <td>NaN</td>\n",
       "    </tr>\n",
       "    <tr>\n",
       "      <th>2</th>\n",
       "      <td>-0.000004</td>\n",
       "      <td>-0.382266</td>\n",
       "      <td>-0.009531</td>\n",
       "      <td>NaN</td>\n",
       "      <td>NaN</td>\n",
       "    </tr>\n",
       "    <tr>\n",
       "      <th>3</th>\n",
       "      <td>-0.000004</td>\n",
       "      <td>-0.381016</td>\n",
       "      <td>-0.010078</td>\n",
       "      <td>NaN</td>\n",
       "      <td>NaN</td>\n",
       "    </tr>\n",
       "    <tr>\n",
       "      <th>4</th>\n",
       "      <td>-0.000004</td>\n",
       "      <td>-0.379531</td>\n",
       "      <td>-0.010547</td>\n",
       "      <td>NaN</td>\n",
       "      <td>NaN</td>\n",
       "    </tr>\n",
       "    <tr>\n",
       "      <th>...</th>\n",
       "      <td>...</td>\n",
       "      <td>...</td>\n",
       "      <td>...</td>\n",
       "      <td>...</td>\n",
       "      <td>...</td>\n",
       "    </tr>\n",
       "    <tr>\n",
       "      <th>249995</th>\n",
       "      <td>0.000006</td>\n",
       "      <td>-0.380000</td>\n",
       "      <td>-0.003281</td>\n",
       "      <td>NaN</td>\n",
       "      <td>NaN</td>\n",
       "    </tr>\n",
       "    <tr>\n",
       "      <th>249996</th>\n",
       "      <td>0.000006</td>\n",
       "      <td>-0.383906</td>\n",
       "      <td>0.003125</td>\n",
       "      <td>NaN</td>\n",
       "      <td>NaN</td>\n",
       "    </tr>\n",
       "    <tr>\n",
       "      <th>249997</th>\n",
       "      <td>0.000006</td>\n",
       "      <td>-0.385859</td>\n",
       "      <td>0.009297</td>\n",
       "      <td>NaN</td>\n",
       "      <td>NaN</td>\n",
       "    </tr>\n",
       "    <tr>\n",
       "      <th>249998</th>\n",
       "      <td>0.000006</td>\n",
       "      <td>-0.385234</td>\n",
       "      <td>0.013750</td>\n",
       "      <td>NaN</td>\n",
       "      <td>NaN</td>\n",
       "    </tr>\n",
       "    <tr>\n",
       "      <th>249999</th>\n",
       "      <td>0.000006</td>\n",
       "      <td>-0.382422</td>\n",
       "      <td>0.015156</td>\n",
       "      <td>NaN</td>\n",
       "      <td>NaN</td>\n",
       "    </tr>\n",
       "  </tbody>\n",
       "</table>\n",
       "<p>250000 rows × 5 columns</p>\n",
       "</div>"
      ],
      "text/plain": [
       "            TIME      Stop     Start  Unnamed: 3  Unnamed: 4\n",
       "0      -0.000004 -0.381719 -0.009062         NaN         NaN\n",
       "1      -0.000004 -0.382578 -0.009141         NaN         NaN\n",
       "2      -0.000004 -0.382266 -0.009531         NaN         NaN\n",
       "3      -0.000004 -0.381016 -0.010078         NaN         NaN\n",
       "4      -0.000004 -0.379531 -0.010547         NaN         NaN\n",
       "...          ...       ...       ...         ...         ...\n",
       "249995  0.000006 -0.380000 -0.003281         NaN         NaN\n",
       "249996  0.000006 -0.383906  0.003125         NaN         NaN\n",
       "249997  0.000006 -0.385859  0.009297         NaN         NaN\n",
       "249998  0.000006 -0.385234  0.013750         NaN         NaN\n",
       "249999  0.000006 -0.382422  0.015156         NaN         NaN\n",
       "\n",
       "[250000 rows x 5 columns]"
      ]
     },
     "execution_count": 1,
     "metadata": {},
     "output_type": "execute_result"
    }
   ],
   "source": [
    "df = pd.read_csv(\"init_data.csv\")\n",
    "df"
   ]
  },
  {
   "cell_type": "code",
   "execution_count": 2,
   "id": "unique-deputy",
   "metadata": {},
   "outputs": [
    {
     "data": {
      "image/png": "[encoded data removed]",
      "text/plain": [
       "<Figure size 640x480 with 1 Axes>"
      ]
     },
     "metadata": {},
     "output_type": "display_data"
    }
   ],
   "source": [
    "df[\"TIME\"].plot(kind=\"hist\")\n",
    "plt.yscale('log')\n",
    "plt.show()"
   ]
  },
  {
   "cell_type": "code",
   "execution_count": 4,
   "id": "decent-police",
   "metadata": {},
   "outputs": [
    {
     "data": {
      "image/png": "[encoded data removed]",
      "text/plain": [
       "<Figure size 640x480 with 1 Axes>"
      ]
     },
     "metadata": {},
     "output_type": "display_data"
    }
   ],
   "source": [
    "df[\"TIME\"].plot(kind=\"line\")\n",
    "#plt.yscale('log')\n",
    "plt.show()"
   ]
  },
  {
   "cell_type": "code",
   "execution_count": 6,
   "id": "separated-mississippi",
   "metadata": {},
   "outputs": [
    {
     "data": {
      "text/plain": [
       "1.1100187500000004e-06"
      ]
     },
     "execution_count": 6,
     "metadata": {},
     "output_type": "execute_result"
    }
   ],
   "source": [
    "times = df[\"TIME\"].values\n",
    "\n",
    "z = sum(times)/len(times)\n",
    "z"
   ]
  },
  {
   "cell_type": "code",
   "execution_count": 55,
   "id": "fancy-training",
   "metadata": {},
   "outputs": [
    {
     "data": {
      "text/html": [
       "<div>\n",
       "<style scoped>\n",
       "    .dataframe tbody tr th:only-of-type {\n",
       "        vertical-align: middle;\n",
       "    }\n",
       "\n",
       "    .dataframe tbody tr th {\n",
       "        vertical-align: top;\n",
       "    }\n",
       "\n",
       "    .dataframe thead th {\n",
       "        text-align: right;\n",
       "    }\n",
       "</style>\n",
       "<table border=\"1\" class=\"dataframe\">\n",
       "  <thead>\n",
       "    <tr style=\"text-align: right;\">\n",
       "      <th></th>\n",
       "      <th>TIME</th>\n",
       "      <th>Stop</th>\n",
       "      <th>Start</th>\n",
       "      <th>Unnamed: 3</th>\n",
       "      <th>Unnamed: 4</th>\n",
       "    </tr>\n",
       "  </thead>\n",
       "  <tbody>\n",
       "    <tr>\n",
       "      <th>97250</th>\n",
       "      <td>3.875000e-11</td>\n",
       "      <td>-0.377734</td>\n",
       "      <td>-0.012891</td>\n",
       "      <td>NaN</td>\n",
       "      <td>NaN</td>\n",
       "    </tr>\n",
       "    <tr>\n",
       "      <th>97251</th>\n",
       "      <td>7.875000e-11</td>\n",
       "      <td>-0.379609</td>\n",
       "      <td>-0.013672</td>\n",
       "      <td>NaN</td>\n",
       "      <td>NaN</td>\n",
       "    </tr>\n",
       "    <tr>\n",
       "      <th>97252</th>\n",
       "      <td>1.187500e-10</td>\n",
       "      <td>-0.381719</td>\n",
       "      <td>-0.012891</td>\n",
       "      <td>NaN</td>\n",
       "      <td>NaN</td>\n",
       "    </tr>\n",
       "    <tr>\n",
       "      <th>97253</th>\n",
       "      <td>1.587500e-10</td>\n",
       "      <td>-0.383281</td>\n",
       "      <td>-0.010625</td>\n",
       "      <td>NaN</td>\n",
       "      <td>NaN</td>\n",
       "    </tr>\n",
       "    <tr>\n",
       "      <th>97254</th>\n",
       "      <td>1.987500e-10</td>\n",
       "      <td>-0.383750</td>\n",
       "      <td>-0.007109</td>\n",
       "      <td>NaN</td>\n",
       "      <td>NaN</td>\n",
       "    </tr>\n",
       "    <tr>\n",
       "      <th>...</th>\n",
       "      <td>...</td>\n",
       "      <td>...</td>\n",
       "      <td>...</td>\n",
       "      <td>...</td>\n",
       "      <td>...</td>\n",
       "    </tr>\n",
       "    <tr>\n",
       "      <th>249995</th>\n",
       "      <td>6.109839e-06</td>\n",
       "      <td>-0.380000</td>\n",
       "      <td>-0.003281</td>\n",
       "      <td>NaN</td>\n",
       "      <td>NaN</td>\n",
       "    </tr>\n",
       "    <tr>\n",
       "      <th>249996</th>\n",
       "      <td>6.109879e-06</td>\n",
       "      <td>-0.383906</td>\n",
       "      <td>0.003125</td>\n",
       "      <td>NaN</td>\n",
       "      <td>NaN</td>\n",
       "    </tr>\n",
       "    <tr>\n",
       "      <th>249997</th>\n",
       "      <td>6.109919e-06</td>\n",
       "      <td>-0.385859</td>\n",
       "      <td>0.009297</td>\n",
       "      <td>NaN</td>\n",
       "      <td>NaN</td>\n",
       "    </tr>\n",
       "    <tr>\n",
       "      <th>249998</th>\n",
       "      <td>6.109959e-06</td>\n",
       "      <td>-0.385234</td>\n",
       "      <td>0.013750</td>\n",
       "      <td>NaN</td>\n",
       "      <td>NaN</td>\n",
       "    </tr>\n",
       "    <tr>\n",
       "      <th>249999</th>\n",
       "      <td>6.109999e-06</td>\n",
       "      <td>-0.382422</td>\n",
       "      <td>0.015156</td>\n",
       "      <td>NaN</td>\n",
       "      <td>NaN</td>\n",
       "    </tr>\n",
       "  </tbody>\n",
       "</table>\n",
       "<p>152750 rows × 5 columns</p>\n",
       "</div>"
      ],
      "text/plain": [
       "                TIME      Stop     Start  Unnamed: 3  Unnamed: 4\n",
       "97250   3.875000e-11 -0.377734 -0.012891         NaN         NaN\n",
       "97251   7.875000e-11 -0.379609 -0.013672         NaN         NaN\n",
       "97252   1.187500e-10 -0.381719 -0.012891         NaN         NaN\n",
       "97253   1.587500e-10 -0.383281 -0.010625         NaN         NaN\n",
       "97254   1.987500e-10 -0.383750 -0.007109         NaN         NaN\n",
       "...              ...       ...       ...         ...         ...\n",
       "249995  6.109839e-06 -0.380000 -0.003281         NaN         NaN\n",
       "249996  6.109879e-06 -0.383906  0.003125         NaN         NaN\n",
       "249997  6.109919e-06 -0.385859  0.009297         NaN         NaN\n",
       "249998  6.109959e-06 -0.385234  0.013750         NaN         NaN\n",
       "249999  6.109999e-06 -0.382422  0.015156         NaN         NaN\n",
       "\n",
       "[152750 rows x 5 columns]"
      ]
     },
     "execution_count": 55,
     "metadata": {},
     "output_type": "execute_result"
    }
   ],
   "source": [
    "rdf = df[df['TIME'] >= 0]\n",
    "rdf"
   ]
  },
  {
   "cell_type": "code",
   "execution_count": 8,
   "id": "black-disease",
   "metadata": {},
   "outputs": [
    {
     "data": {
      "image/png": "[encoded data removed]",
      "text/plain": [
       "<Figure size 640x480 with 1 Axes>"
      ]
     },
     "metadata": {},
     "output_type": "display_data"
    }
   ],
   "source": [
    "df[\"TIME\"].plot(kind=\"hist\")\n",
    "plt.yscale('log')\n",
    "plt.grid()\n",
    "plt.xlabel(\"Timing (s)\")\n",
    "plt.show()"
   ]
  },
  {
   "cell_type": "code",
   "execution_count": 57,
   "id": "adult-gross",
   "metadata": {},
   "outputs": [
    {
     "data": {
      "text/plain": [
       "3.055018749999999e-06"
      ]
     },
     "execution_count": 57,
     "metadata": {},
     "output_type": "execute_result"
    }
   ],
   "source": [
    "times_pos = rdf[\"TIME\"].values\n",
    "\n",
    "x = sum(times_pos)/len(times_pos)"
   ]
  },
  {
   "cell_type": "code",
   "execution_count": 3,
   "id": "opposite-thought",
   "metadata": {},
   "outputs": [
    {
     "data": {
      "text/html": [
       "<div>\n",
       "<style scoped>\n",
       "    .dataframe tbody tr th:only-of-type {\n",
       "        vertical-align: middle;\n",
       "    }\n",
       "\n",
       "    .dataframe tbody tr th {\n",
       "        vertical-align: top;\n",
       "    }\n",
       "\n",
       "    .dataframe thead th {\n",
       "        text-align: right;\n",
       "    }\n",
       "</style>\n",
       "<table border=\"1\" class=\"dataframe\">\n",
       "  <thead>\n",
       "    <tr style=\"text-align: right;\">\n",
       "      <th></th>\n",
       "      <th>TIME</th>\n",
       "      <th>Stop</th>\n",
       "      <th>Start</th>\n",
       "      <th>Unnamed: 3</th>\n",
       "      <th>Unnamed: 4</th>\n",
       "    </tr>\n",
       "  </thead>\n",
       "  <tbody>\n",
       "    <tr>\n",
       "      <th>0</th>\n",
       "      <td>-3.889961e-06</td>\n",
       "      <td>-0.381719</td>\n",
       "      <td>-0.009062</td>\n",
       "      <td>NaN</td>\n",
       "      <td>NaN</td>\n",
       "    </tr>\n",
       "    <tr>\n",
       "      <th>1</th>\n",
       "      <td>-3.889921e-06</td>\n",
       "      <td>-0.382578</td>\n",
       "      <td>-0.009141</td>\n",
       "      <td>NaN</td>\n",
       "      <td>NaN</td>\n",
       "    </tr>\n",
       "    <tr>\n",
       "      <th>2</th>\n",
       "      <td>-3.889881e-06</td>\n",
       "      <td>-0.382266</td>\n",
       "      <td>-0.009531</td>\n",
       "      <td>NaN</td>\n",
       "      <td>NaN</td>\n",
       "    </tr>\n",
       "    <tr>\n",
       "      <th>3</th>\n",
       "      <td>-3.889841e-06</td>\n",
       "      <td>-0.381016</td>\n",
       "      <td>-0.010078</td>\n",
       "      <td>NaN</td>\n",
       "      <td>NaN</td>\n",
       "    </tr>\n",
       "    <tr>\n",
       "      <th>4</th>\n",
       "      <td>-3.889801e-06</td>\n",
       "      <td>-0.379531</td>\n",
       "      <td>-0.010547</td>\n",
       "      <td>NaN</td>\n",
       "      <td>NaN</td>\n",
       "    </tr>\n",
       "    <tr>\n",
       "      <th>...</th>\n",
       "      <td>...</td>\n",
       "      <td>...</td>\n",
       "      <td>...</td>\n",
       "      <td>...</td>\n",
       "      <td>...</td>\n",
       "    </tr>\n",
       "    <tr>\n",
       "      <th>97245</th>\n",
       "      <td>-1.612500e-10</td>\n",
       "      <td>-0.382188</td>\n",
       "      <td>-0.008125</td>\n",
       "      <td>NaN</td>\n",
       "      <td>NaN</td>\n",
       "    </tr>\n",
       "    <tr>\n",
       "      <th>97246</th>\n",
       "      <td>-1.212500e-10</td>\n",
       "      <td>-0.380469</td>\n",
       "      <td>-0.007500</td>\n",
       "      <td>NaN</td>\n",
       "      <td>NaN</td>\n",
       "    </tr>\n",
       "    <tr>\n",
       "      <th>97247</th>\n",
       "      <td>-8.125000e-11</td>\n",
       "      <td>-0.378516</td>\n",
       "      <td>-0.007891</td>\n",
       "      <td>NaN</td>\n",
       "      <td>NaN</td>\n",
       "    </tr>\n",
       "    <tr>\n",
       "      <th>97248</th>\n",
       "      <td>-4.125000e-11</td>\n",
       "      <td>-0.377188</td>\n",
       "      <td>-0.009219</td>\n",
       "      <td>NaN</td>\n",
       "      <td>NaN</td>\n",
       "    </tr>\n",
       "    <tr>\n",
       "      <th>97249</th>\n",
       "      <td>-1.250000e-12</td>\n",
       "      <td>-0.376875</td>\n",
       "      <td>-0.011094</td>\n",
       "      <td>NaN</td>\n",
       "      <td>NaN</td>\n",
       "    </tr>\n",
       "  </tbody>\n",
       "</table>\n",
       "<p>97250 rows × 5 columns</p>\n",
       "</div>"
      ],
      "text/plain": [
       "               TIME      Stop     Start  Unnamed: 3  Unnamed: 4\n",
       "0     -3.889961e-06 -0.381719 -0.009062         NaN         NaN\n",
       "1     -3.889921e-06 -0.382578 -0.009141         NaN         NaN\n",
       "2     -3.889881e-06 -0.382266 -0.009531         NaN         NaN\n",
       "3     -3.889841e-06 -0.381016 -0.010078         NaN         NaN\n",
       "4     -3.889801e-06 -0.379531 -0.010547         NaN         NaN\n",
       "...             ...       ...       ...         ...         ...\n",
       "97245 -1.612500e-10 -0.382188 -0.008125         NaN         NaN\n",
       "97246 -1.212500e-10 -0.380469 -0.007500         NaN         NaN\n",
       "97247 -8.125000e-11 -0.378516 -0.007891         NaN         NaN\n",
       "97248 -4.125000e-11 -0.377188 -0.009219         NaN         NaN\n",
       "97249 -1.250000e-12 -0.376875 -0.011094         NaN         NaN\n",
       "\n",
       "[97250 rows x 5 columns]"
      ]
     },
     "execution_count": 3,
     "metadata": {},
     "output_type": "execute_result"
    }
   ],
   "source": [
    "rdf1 = df[df['TIME'] <= 0]\n",
    "rdf1"
   ]
  },
  {
   "cell_type": "code",
   "execution_count": 4,
   "id": "ruled-sweet",
   "metadata": {},
   "outputs": [
    {
     "data": {
      "text/plain": [
       "-1.94498125e-06"
      ]
     },
     "execution_count": 4,
     "metadata": {},
     "output_type": "execute_result"
    }
   ],
   "source": [
    "times_pos = rdf1[\"TIME\"].values\n",
    "\n",
    "y = sum(times_pos)/len(times_pos)"
   ]
  },
  {
   "cell_type": "code",
   "execution_count": 62,
   "id": "assigned-abuse",
   "metadata": {},
   "outputs": [
    {
     "data": {
      "image/png": "[encoded data removed]",
      "text/plain": [
       "<Figure size 640x480 with 1 Axes>"
      ]
     },
     "metadata": {},
     "output_type": "display_data"
    }
   ],
   "source": [
    "df[\"Stop\"].plot(kind=\"hist\",bins=100,alpha=0.5,label=\"STOP\")\n",
    "df[\"Start\"].plot(kind=\"hist\",bins=100,label=\"START\")\n",
    "plt.xlabel(\"Voltage (V)\")\n",
    "plt.legend()\n",
    "plt.show()"
   ]
  },
  {
   "cell_type": "code",
   "execution_count": 61,
   "id": "supreme-appearance",
   "metadata": {},
   "outputs": [
    {
     "data": {
      "image/png": "[encoded data removed]",
      "text/plain": [
       "<Figure size 640x480 with 1 Axes>"
      ]
     },
     "metadata": {},
     "output_type": "display_data"
    }
   ],
   "source": [
    "num = 25000\n",
    "\n",
    "plt.plot(df[\"Start\"].values[:num],label=\"Start\")\n",
    "plt.plot(df[\"Stop\"].values[:num],label=\"Stop\")\n",
    "plt.plot(df[\"Stop\"].values[:num] - df[\"Start\"].values[:num],label=\"Diff\")\n",
    "plt.legend()\n",
    "plt.xlabel(\"Event\")\n",
    "plt.ylabel(\"voltage (V)\")\n",
    "plt.show()"
   ]
  },
  {
   "cell_type": "code",
   "execution_count": 70,
   "id": "defensive-density",
   "metadata": {},
   "outputs": [
    {
     "data": {
      "text/html": [
       "<div>\n",
       "<style scoped>\n",
       "    .dataframe tbody tr th:only-of-type {\n",
       "        vertical-align: middle;\n",
       "    }\n",
       "\n",
       "    .dataframe tbody tr th {\n",
       "        vertical-align: top;\n",
       "    }\n",
       "\n",
       "    .dataframe thead th {\n",
       "        text-align: right;\n",
       "    }\n",
       "</style>\n",
       "<table border=\"1\" class=\"dataframe\">\n",
       "  <thead>\n",
       "    <tr style=\"text-align: right;\">\n",
       "      <th></th>\n",
       "      <th>time</th>\n",
       "      <th>freq</th>\n",
       "      <th>tau</th>\n",
       "    </tr>\n",
       "  </thead>\n",
       "  <tbody>\n",
       "    <tr>\n",
       "      <th>0</th>\n",
       "      <td>0.543744</td>\n",
       "      <td>0</td>\n",
       "      <td>0.000000</td>\n",
       "    </tr>\n",
       "    <tr>\n",
       "      <th>1</th>\n",
       "      <td>0.558327</td>\n",
       "      <td>0</td>\n",
       "      <td>0.000000</td>\n",
       "    </tr>\n",
       "    <tr>\n",
       "      <th>2</th>\n",
       "      <td>0.572911</td>\n",
       "      <td>0</td>\n",
       "      <td>0.000000</td>\n",
       "    </tr>\n",
       "    <tr>\n",
       "      <th>3</th>\n",
       "      <td>0.587494</td>\n",
       "      <td>1</td>\n",
       "      <td>0.587494</td>\n",
       "    </tr>\n",
       "    <tr>\n",
       "      <th>4</th>\n",
       "      <td>0.602078</td>\n",
       "      <td>0</td>\n",
       "      <td>0.000000</td>\n",
       "    </tr>\n",
       "    <tr>\n",
       "      <th>...</th>\n",
       "      <td>...</td>\n",
       "      <td>...</td>\n",
       "      <td>...</td>\n",
       "    </tr>\n",
       "    <tr>\n",
       "      <th>245</th>\n",
       "      <td>4.116710</td>\n",
       "      <td>0</td>\n",
       "      <td>0.000000</td>\n",
       "    </tr>\n",
       "    <tr>\n",
       "      <th>246</th>\n",
       "      <td>4.131300</td>\n",
       "      <td>0</td>\n",
       "      <td>0.000000</td>\n",
       "    </tr>\n",
       "    <tr>\n",
       "      <th>247</th>\n",
       "      <td>4.145880</td>\n",
       "      <td>0</td>\n",
       "      <td>0.000000</td>\n",
       "    </tr>\n",
       "    <tr>\n",
       "      <th>248</th>\n",
       "      <td>4.160460</td>\n",
       "      <td>0</td>\n",
       "      <td>0.000000</td>\n",
       "    </tr>\n",
       "    <tr>\n",
       "      <th>249</th>\n",
       "      <td>4.175050</td>\n",
       "      <td>0</td>\n",
       "      <td>0.000000</td>\n",
       "    </tr>\n",
       "  </tbody>\n",
       "</table>\n",
       "<p>250 rows × 3 columns</p>\n",
       "</div>"
      ],
      "text/plain": [
       "         time  freq       tau\n",
       "0    0.543744     0  0.000000\n",
       "1    0.558327     0  0.000000\n",
       "2    0.572911     0  0.000000\n",
       "3    0.587494     1  0.587494\n",
       "4    0.602078     0  0.000000\n",
       "..        ...   ...       ...\n",
       "245  4.116710     0  0.000000\n",
       "246  4.131300     0  0.000000\n",
       "247  4.145880     0  0.000000\n",
       "248  4.160460     0  0.000000\n",
       "249  4.175050     0  0.000000\n",
       "\n",
       "[250 rows x 3 columns]"
      ]
     },
     "execution_count": 70,
     "metadata": {},
     "output_type": "execute_result"
    }
   ],
   "source": [
    "df = pd.read_csv(\"updated_histogram_data.csv\")\n",
    "df.columns=[\"time\",\"freq\"]\n",
    "df[\"time\"] = (df.time.values)*10**6 #microsec\n",
    "df[\"tau\"] = df.freq.values*(df.time.values)\n",
    "#df = df[df[\"tau\"]<200]\n",
    "df"
   ]
  },
  {
   "cell_type": "code",
   "execution_count": 71,
   "id": "surface-causing",
   "metadata": {},
   "outputs": [
    {
     "data": {
      "text/plain": [
       "21.283246711999986"
      ]
     },
     "execution_count": 71,
     "metadata": {},
     "output_type": "execute_result"
    }
   ],
   "source": [
    "tau = df[\"tau\"].mean()\n",
    "tau"
   ]
  },
  {
   "cell_type": "code",
   "execution_count": 72,
   "id": "presidential-render",
   "metadata": {},
   "outputs": [
    {
     "data": {
      "image/png": "[encoded data removed]",
      "text/plain": [
       "<Figure size 640x480 with 1 Axes>"
      ]
     },
     "metadata": {},
     "output_type": "display_data"
    }
   ],
   "source": [
    "plt.plot(df[\"tau\"].values)\n",
    "plt.show()"
   ]
  },
  {
   "cell_type": "code",
   "execution_count": 64,
   "id": "transsexual-cooler",
   "metadata": {},
   "outputs": [
    {
     "data": {
      "image/png": "[encoded data removed]",
      "text/plain": [
       "<Figure size 640x480 with 1 Axes>"
      ]
     },
     "metadata": {},
     "output_type": "display_data"
    }
   ],
   "source": [
    "plt.plot(df[\"time\"].values,df[\"freq\"].values)\n",
    "plt.show()"
   ]
  },
  {
   "cell_type": "code",
   "execution_count": 73,
   "id": "early-convergence",
   "metadata": {},
   "outputs": [
    {
     "ename": "NameError",
     "evalue": "name 'normalized_tone' is not defined",
     "output_type": "error",
     "traceback": [
      "\u001b[0;31m---------------------------------------------------------------------------\u001b[0m",
      "\u001b[0;31mNameError\u001b[0m                                 Traceback (most recent call last)",
      "\u001b[0;32m<ipython-input-73-898e7c97934d>\u001b[0m in \u001b[0;36m<module>\u001b[0;34m\u001b[0m\n\u001b[1;32m      7\u001b[0m \u001b[0mN\u001b[0m \u001b[0;34m=\u001b[0m \u001b[0mSAMPLE_RATE\u001b[0m \u001b[0;34m*\u001b[0m \u001b[0mDURATION\u001b[0m\u001b[0;34m\u001b[0m\u001b[0;34m\u001b[0m\u001b[0m\n\u001b[1;32m      8\u001b[0m \u001b[0;34m\u001b[0m\u001b[0m\n\u001b[0;32m----> 9\u001b[0;31m \u001b[0myf\u001b[0m \u001b[0;34m=\u001b[0m \u001b[0mfft\u001b[0m\u001b[0;34m(\u001b[0m\u001b[0mnormalized_tone\u001b[0m\u001b[0;34m)\u001b[0m\u001b[0;34m\u001b[0m\u001b[0;34m\u001b[0m\u001b[0m\n\u001b[0m\u001b[1;32m     10\u001b[0m \u001b[0mxf\u001b[0m \u001b[0;34m=\u001b[0m \u001b[0mfftfreq\u001b[0m\u001b[0;34m(\u001b[0m\u001b[0mN\u001b[0m\u001b[0;34m,\u001b[0m \u001b[0;36m1\u001b[0m \u001b[0;34m/\u001b[0m \u001b[0mSAMPLE_RATE\u001b[0m\u001b[0;34m)\u001b[0m\u001b[0;34m\u001b[0m\u001b[0;34m\u001b[0m\u001b[0m\n\u001b[1;32m     11\u001b[0m \u001b[0;34m\u001b[0m\u001b[0m\n",
      "\u001b[0;31mNameError\u001b[0m: name 'normalized_tone' is not defined"
     ]
    }
   ],
   "source": [
    "from scipy.fft import fft, fftfreq\n",
    "\n",
    "SAMPLE_RATE = 25*10**9\n",
    "DURATION = 30\n",
    "\n",
    "# Number of samples in normalized_tone\n",
    "N = SAMPLE_RATE * DURATION\n",
    "\n",
    "yf = fft(df.freq.values)\n",
    "xf = fftfreq(N, 1 / SAMPLE_RATE)\n",
    "\n",
    "plt.plot(xf, np.abs(yf))\n",
    "plt.show()"
   ]
  },
  {
   "cell_type": "markdown",
   "id": "heavy-sewing",
   "metadata": {},
   "source": [
    "# Conclusion & Summary\n"
   ]
  },
  {
   "cell_type": "markdown",
   "id": "champion-weather",
   "metadata": {},
   "source": [
    "# Project Questions:\n",
    "\n",
    "**1. Discuss your setup. Write down exactly how you elect to set thresholds and the electronic logic for event selection.**\n",
    "\n",
    "\n",
    "**2. Plot the time distribution and calculate the muon life-time by making a fit. How good is the fit? What are the errors on your fit parameters? Statistical and systematic? Identify each source of error.**\n",
    "\n",
    "\n",
    "**3. Assuming muons are created 30 km above sea-level and travel at the speed of light, what is the minimum time they must survive to be seen in your experiment?**\n",
    "\n",
    "\n",
    "**4.What is the maximum energy the decay electron can have? What distance such an electron travel in the scintillator? How many photons does it generate? Can we measure (or estimate) their energies with our setup? How about the neutrinos? How many photons do they generate?**\n",
    "\n",
    "\n",
    "**5. What are the possible sources of backgrounds?**\n",
    "\n",
    "\n",
    "**6. Compare your result with the accepted value (check http://pdg.lbl.gov). Explain the differences, if any**\n",
    "\n",
    "\n",
    "**7. Muons come in two different charge states, positive and negative. The negative muon decays $\\mu^- \\rightarrow + v_{\\mu} + \\bar{v}_{e} + e^-$ and the positive one as $\\mu^+ \\rightarrow + v_{e} + \\bar{v}_{\\mu} + e^+$ . Can you tell which type of muons you detected?**\n",
    "\n",
    "\n",
    "**8. What is lepton number conservation?**\n",
    "\n",
    "\n",
    "**9. How do we know there are two neutrinos in muon decay? Why not just one or none? How can we experimentally answer this?**\n",
    "\n",
    "\n",
    "**10. Are there other muon decay modes? If so, what are they? Can we detect/identify them?**\n",
    "\n"
   ]
  }
 ],
 "metadata": {
  "hide_input": false,
  "kernelspec": {
   "display_name": "Python 3",
   "language": "python",
   "name": "python3"
  },
  "language_info": {
   "codemirror_mode": {
    "name": "ipython",
    "version": 3
   },
   "file_extension": ".py",
   "mimetype": "text/x-python",
   "name": "python",
   "nbconvert_exporter": "python",
   "pygments_lexer": "ipython3",
   "version": "3.8.3"
  },
  "toc": {
   "base_numbering": 1,
   "nav_menu": {},
   "number_sections": true,
   "sideBar": true,
   "skip_h1_title": false,
   "title_cell": "Table of Contents",
   "title_sidebar": "Contents",
   "toc_cell": false,
   "toc_position": {},
   "toc_section_display": true,
   "toc_window_display": false
  },
  "varInspector": {
   "cols": {
    "lenName": 16,
    "lenType": 16,
    "lenVar": 40
   },
   "kernels_config": {
    "python": {
     "delete_cmd_postfix": "",
     "delete_cmd_prefix": "del ",
     "library": "var_list.py",
     "varRefreshCmd": "print(var_dic_list())"
    },
    "r": {
     "delete_cmd_postfix": ") ",
     "delete_cmd_prefix": "rm(",
     "library": "var_list.r",
     "varRefreshCmd": "cat(var_dic_list()) "
    }
   },
   "types_to_exclude": [
    "module",
    "function",
    "builtin_function_or_method",
    "instance",
    "_Feature"
   ],
   "window_display": false
  }
 },
 "nbformat": 4,
 "nbformat_minor": 5
}
